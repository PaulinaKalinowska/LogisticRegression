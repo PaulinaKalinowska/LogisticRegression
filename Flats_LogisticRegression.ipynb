{
 "cells": [
  {
   "cell_type": "code",
   "execution_count": 1,
   "metadata": {},
   "outputs": [],
   "source": [
    "#Logistic Regression\n",
    "#basing on flats' adverts' parameters from Gratka, I'll try to predict if a flat is located in the center\n",
    "\n",
    "import pandas as pd\n",
    "\n",
    "data = pd.read_csv(\"gratkapl-centrenrm.csv\")\n",
    "X = data[['Expected','Rooms','SqrMeters', 'Floor']]\n",
    "Y = data['Centre']"
   ]
  },
  {
   "cell_type": "code",
   "execution_count": 2,
   "metadata": {},
   "outputs": [],
   "source": [
    "#splitting train and test data\n",
    "from sklearn.model_selection import train_test_split\n",
    "\n",
    "(train_X, test_X, train_Y, test_Y) = train_test_split(X, Y, test_size=0.2, random_state=42)"
   ]
  },
  {
   "cell_type": "code",
   "execution_count": 3,
   "metadata": {},
   "outputs": [],
   "source": [
    "#normalizing data using StandardScaler\n",
    "from sklearn.preprocessing import StandardScaler\n",
    "scaler = StandardScaler()\n",
    "\n",
    "scaler.fit(train_X)\n",
    "\n",
    "train_X = scaler.transform(train_X)"
   ]
  },
  {
   "cell_type": "code",
   "execution_count": 4,
   "metadata": {},
   "outputs": [
    {
     "name": "stdout",
     "output_type": "stream",
     "text": [
      "-7.704149861091545e-18 -1.7609485396780675e-16 -4.1602409249894343e-16 -2.091126390867705e-17\n"
     ]
    }
   ],
   "source": [
    "#printing input columns' means\n",
    "print(train_X[:, 0].mean(),\n",
    "train_X[:, 1].mean(),\n",
    "train_X[:, 2].mean(),\n",
    "train_X[:, 3].mean())"
   ]
  },
  {
   "cell_type": "code",
   "execution_count": 5,
   "metadata": {},
   "outputs": [
    {
     "data": {
      "text/plain": [
       "LogisticRegression(C=1.0, class_weight=None, dual=False, fit_intercept=True,\n",
       "          intercept_scaling=1, max_iter=100, multi_class='ovr', n_jobs=1,\n",
       "          penalty='l2', random_state=None, solver='liblinear', tol=0.0001,\n",
       "          verbose=0, warm_start=False)"
      ]
     },
     "execution_count": 5,
     "metadata": {},
     "output_type": "execute_result"
    }
   ],
   "source": [
    "#using LogisticRegression from Scikit-learn to train the model\n",
    "from sklearn.linear_model import LogisticRegression\n",
    "\n",
    "model = LogisticRegression()\n",
    "\n",
    "model.fit(train_X, train_Y)"
   ]
  },
  {
   "cell_type": "code",
   "execution_count": 6,
   "metadata": {},
   "outputs": [],
   "source": [
    "#normalizing test data\n",
    "predicted = model.predict(scaler.transform(test_X)) "
   ]
  },
  {
   "cell_type": "code",
   "execution_count": 10,
   "metadata": {},
   "outputs": [
    {
     "name": "stdout",
     "output_type": "stream",
     "text": [
      "accuracy score:  0.7202970297029703\n",
      "[[-0.18642666 -0.6215717   0.76459863 -0.00243289]]\n"
     ]
    }
   ],
   "source": [
    "#printing achieved accuracy\n",
    "from sklearn.metrics import accuracy_score\n",
    "print('accuracy score: ', accuracy_score(test_Y, predicted))\n",
    "\n",
    "#printing model's parameters\n",
    "print(model.coef_)\n",
    "from sklearn.metrics import classification_report"
   ]
  },
  {
   "cell_type": "code",
   "execution_count": 8,
   "metadata": {},
   "outputs": [
    {
     "name": "stdout",
     "output_type": "stream",
     "text": [
      "             precision    recall  f1-score   support\n",
      "\n",
      "          0       0.73      0.97      0.83       288\n",
      "          1       0.58      0.09      0.16       116\n",
      "\n",
      "avg / total       0.68      0.72      0.64       404\n",
      "\n"
     ]
    }
   ],
   "source": [
    "print(classification_report(test_Y, predicted))"
   ]
  }
 ],
 "metadata": {
  "kernelspec": {
   "display_name": "Python 3",
   "language": "python",
   "name": "python3"
  },
  "language_info": {
   "codemirror_mode": {
    "name": "ipython",
    "version": 3
   },
   "file_extension": ".py",
   "mimetype": "text/x-python",
   "name": "python",
   "nbconvert_exporter": "python",
   "pygments_lexer": "ipython3",
   "version": "3.6.4"
  }
 },
 "nbformat": 4,
 "nbformat_minor": 2
}
